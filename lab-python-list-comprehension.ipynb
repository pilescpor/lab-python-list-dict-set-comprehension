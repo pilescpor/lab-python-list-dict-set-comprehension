{
 "cells": [
  {
   "cell_type": "markdown",
   "id": "25d7736c-ba17-4aff-b6bb-66eba20fbf4e",
   "metadata": {},
   "source": [
    "# Lab | List, Dict and Set Comprehension"
   ]
  },
  {
   "cell_type": "markdown",
   "id": "7dd3cbde-675a-4b81-92c3-f728846dbe06",
   "metadata": {},
   "source": [
    "## Exercise: Managing Customer Orders Optimized with Comprehension"
   ]
  },
  {
   "cell_type": "markdown",
   "id": "5d500160-2fb7-4777-b5e4-09d45ebaf328",
   "metadata": {},
   "source": [
    "In the previous exercise, you developed a program to manage customer orders and inventory. Now, let's take it a step further and incorporate comprehension into your code.\n",
    "\n",
    "Follow the steps below to complete the exercise:\n",
    "\n",
    "1. Review your code from the previous exercise and identify areas where you can apply comprehension to simplify and streamline your code. \n",
    "\n",
    "    - *Hint: Apply it to initialize inventory, updating the inventory and printing the updated inventory.*\n",
    "    \n",
    "    - For example, in initializing the inventory, we could have:\n",
    "    \n",
    "        ```python\n",
    "        def initialize_inventory(products):\n",
    "            inventory = {product: int(input(f\"Enter the quantity of {product}s available: \")) for product in products}\n",
    "            return inventory\n",
    "\n",
    "        ```\n",
    "<br>\n",
    "    \n",
    "    \n",
    "2. Modify the function get_customer_orders so it prompts the user to enter the number of customer orders and gathers the product names using a loop and user input. Use comprehension.\n",
    "\n",
    "3. Add a new function to calculate the total price of the customer order. For each product in customer_orders, prompt the user to enter the price of that product. Use comprehension to calculate the total price. Note: assume that the user can only have 1 unit of each product.\n",
    "\n",
    "4. Modify the update_inventory function to remove the product from the inventory if its quantity becomes zero after fulfilling the customer orders. Use comprehension to filter out the products with a quantity of zero from the inventory.\n",
    "\n",
    "5. Print the total price of the customer order.\n",
    "\n",
    "Your code should produce output similar to the following:\n",
    "\n",
    "```python\n",
    "Enter the quantity of t-shirts available:  5\n",
    "Enter the quantity of mugs available:  4\n",
    "Enter the quantity of hats available:  3\n",
    "Enter the quantity of books available:  2\n",
    "Enter the quantity of keychains available:  1\n",
    "Enter the number of customer orders:  2\n",
    "Enter the name of a product that a customer wants to order:  hat\n",
    "Enter the name of a product that a customer wants to order:  keychain\n",
    "\n",
    "Order Statistics:\n",
    "Total Products Ordered: 2\n",
    "Percentage of Unique Products Ordered: 40.0\n",
    "\n",
    "Updated Inventory:\n",
    "t-shirt: 5\n",
    "mug: 4\n",
    "hat: 2\n",
    "book: 2\n",
    "Enter the price of keychain:  5\n",
    "Enter the price of hat:  10\n",
    "Total Price: 15.0\n",
    "\n",
    "```\n"
   ]
  },
  {
   "cell_type": "code",
   "execution_count": 135,
   "id": "170a3ad1",
   "metadata": {},
   "outputs": [],
   "source": [
    "def initialize_inventory(products):\n",
    "            inventory = {product: int(input(f\"Enter the quantity of {product}s available: \")) for product in products}\n",
    "            return inventory"
   ]
  },
  {
   "cell_type": "code",
   "execution_count": 136,
   "id": "1b470649",
   "metadata": {},
   "outputs": [],
   "source": [
    "def get_customer_orders():\n",
    "    quantity = int(input(\"How many products do you order?\"))\n",
    "    customer_orders = {input(\"Which product do you want to order?\") for i in range(quantity)}\n",
    "               \n",
    "    return customer_orders"
   ]
  },
  {
   "cell_type": "code",
   "execution_count": 137,
   "id": "df10b8a8",
   "metadata": {},
   "outputs": [],
   "source": [
    "def update_inventory(customer_orders, inventory):\n",
    "    inventory = {product: quantity - 1  if product in customer_orders else quantity for product, quantity in inventory.items()}\n",
    "    return inventory"
   ]
  },
  {
   "cell_type": "code",
   "execution_count": 138,
   "id": "309f6019",
   "metadata": {},
   "outputs": [],
   "source": [
    "def calculate_order_statistics(customer_orders, products):\n",
    "    total_products_ordered = len(customer_orders)\n",
    "    percentage_ordered = total_products_ordered/len(products)*100\n",
    "    return (total_products_ordered, percentage_ordered)"
   ]
  },
  {
   "cell_type": "code",
   "execution_count": 139,
   "id": "b8e31f3e",
   "metadata": {},
   "outputs": [],
   "source": [
    "def print_order_statistics(order_statistics):\n",
    "    print(\n",
    "    '''\n",
    "    Order Statistics:\n",
    "    Total Products Ordered: {}\n",
    "    Percentage of Products Ordered: {}% \n",
    "    '''.format(order_statistics[0],order_statistics[1])\n",
    "    )"
   ]
  },
  {
   "cell_type": "code",
   "execution_count": 140,
   "id": "629757ba",
   "metadata": {},
   "outputs": [],
   "source": [
    "def print_updated_inventory(inventory):\n",
    "    for product, quantity in inventory.items():\n",
    "        print(\"The quantity of the product {} is {}\".format(product,quantity))"
   ]
  },
  {
   "cell_type": "code",
   "execution_count": 141,
   "id": "47db5e32",
   "metadata": {},
   "outputs": [],
   "source": [
    "def price(customer_orders):\n",
    "        price ={product:int(input(f\"What is the price of the {product}?\")) for product in customer_orders}\n",
    "        return price"
   ]
  },
  {
   "cell_type": "code",
   "execution_count": 142,
   "id": "561c6acb",
   "metadata": {},
   "outputs": [],
   "source": [
    "def print_price(prices):\n",
    "    for product, price in prices.items():\n",
    "        print(\"The price of the product {} is {}\".format(product,price))"
   ]
  },
  {
   "cell_type": "code",
   "execution_count": 143,
   "metadata": {},
   "outputs": [],
   "source": [
    "def total_price(prices):\n",
    "    print(f\"Total price: {sum(prices.values())}\")"
   ]
  },
  {
   "cell_type": "code",
   "execution_count": 144,
   "id": "986b6568",
   "metadata": {},
   "outputs": [
    {
     "name": "stdout",
     "output_type": "stream",
     "text": [
      "Initial inventory:\n",
      "The quantity of the product t-shirt is 5\n",
      "The quantity of the product mug is 4\n",
      "The quantity of the product hat is 3\n",
      "The quantity of the product book is 2\n",
      "The quantity of the product keychain is 1\n",
      "\n",
      "    Order Statistics:\n",
      "    Total Products Ordered: 2\n",
      "    Percentage of Products Ordered: 40.0% \n",
      "    \n",
      "Update inventory:\n",
      "The quantity of the product t-shirt is 5\n",
      "The quantity of the product mug is 4\n",
      "The quantity of the product hat is 2\n",
      "The quantity of the product book is 1\n",
      "The quantity of the product keychain is 1\n",
      "The price of the product hat is 5\n",
      "The price of the product book is 6\n",
      "Total price: 11\n"
     ]
    }
   ],
   "source": [
    "products = [\"t-shirt\", \"mug\", \"hat\", \"book\", \"keychain\"]\n",
    "inventory = initialize_inventory(products)\n",
    "print(\"Initial inventory:\")\n",
    "print_updated_inventory(inventory)\n",
    "customer_orders = get_customer_orders()\n",
    "inventory = update_inventory(customer_orders,inventory)\n",
    "order_statistics = calculate_order_statistics(customer_orders,inventory)\n",
    "print_order_statistics(order_statistics)\n",
    "print(\"Update inventory:\")\n",
    "print_updated_inventory(inventory)\n",
    "prices = price(customer_orders)\n",
    "print_price(prices)\n",
    "total_price(prices)\n"
   ]
  }
 ],
 "metadata": {
  "kernelspec": {
   "display_name": "Python 3 (ipykernel)",
   "language": "python",
   "name": "python3"
  },
  "language_info": {
   "codemirror_mode": {
    "name": "ipython",
    "version": 3
   },
   "file_extension": ".py",
   "mimetype": "text/x-python",
   "name": "python",
   "nbconvert_exporter": "python",
   "pygments_lexer": "ipython3",
   "version": "3.6.2"
  }
 },
 "nbformat": 4,
 "nbformat_minor": 5
}
